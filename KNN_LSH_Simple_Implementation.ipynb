{
  "nbformat": 4,
  "nbformat_minor": 0,
  "metadata": {
    "colab": {
      "name": " KNN - LSH Simple Implementation",
      "provenance": [],
      "collapsed_sections": [],
      "authorship_tag": "ABX9TyMaAsT/RseZwahc74Hbh+uY",
      "include_colab_link": true
    },
    "kernelspec": {
      "name": "python3",
      "display_name": "Python 3"
    },
    "language_info": {
      "name": "python"
    }
  },
  "cells": [
    {
      "cell_type": "markdown",
      "metadata": {
        "id": "view-in-github",
        "colab_type": "text"
      },
      "source": [
        "<a href=\"https://colab.research.google.com/github/gangabhavani145/PGD_Practice/blob/main/KNN_LSH_Simple_Implementation.ipynb\" target=\"_parent\"><img src=\"https://colab.research.google.com/assets/colab-badge.svg\" alt=\"Open In Colab\"/></a>"
      ]
    },
    {
      "cell_type": "code",
      "metadata": {
        "id": "Ppgr1Ws31-3i"
      },
      "source": [
        "import numpy as np\n",
        "import pandas as pd\n",
        "from sklearn.feature_extraction.text import TfidfVectorizer\n"
      ],
      "execution_count": null,
      "outputs": []
    },
    {
      "cell_type": "code",
      "metadata": {
        "colab": {
          "base_uri": "https://localhost:8080/"
        },
        "id": "a-adIy5A2GY7",
        "outputId": "72412fec-c150-4a07-ef3a-c735ff816c4c"
      },
      "source": [
        "from google.colab import drive\n",
        "drive.mount('/gdrive')"
      ],
      "execution_count": null,
      "outputs": [
        {
          "output_type": "stream",
          "text": [
            "Drive already mounted at /gdrive; to attempt to forcibly remount, call drive.mount(\"/gdrive\", force_remount=True).\n"
          ],
          "name": "stdout"
        }
      ]
    },
    {
      "cell_type": "code",
      "metadata": {
        "colab": {
          "base_uri": "https://localhost:8080/"
        },
        "id": "D_9Mi06d2Zfw",
        "outputId": "b6df92a7-b909-4f0f-a271-d117f07daa33"
      },
      "source": [
        "%cd /gdrive"
      ],
      "execution_count": null,
      "outputs": [
        {
          "output_type": "stream",
          "text": [
            "/gdrive\n"
          ],
          "name": "stdout"
        }
      ]
    },
    {
      "cell_type": "code",
      "metadata": {
        "colab": {
          "base_uri": "https://localhost:8080/",
          "height": 419
        },
        "id": "WYKZjqCA2xVE",
        "outputId": "09499087-2524-40ed-de9b-0cbdefc8e1fe"
      },
      "source": [
        "path = \"/gdrive/MyDrive/lsh_assignment_data.csv\"\n",
        "\n",
        "df = pd.read_csv(path)\n",
        "df"
      ],
      "execution_count": null,
      "outputs": [
        {
          "output_type": "execute_result",
          "data": {
            "text/html": [
              "<div>\n",
              "<style scoped>\n",
              "    .dataframe tbody tr th:only-of-type {\n",
              "        vertical-align: middle;\n",
              "    }\n",
              "\n",
              "    .dataframe tbody tr th {\n",
              "        vertical-align: top;\n",
              "    }\n",
              "\n",
              "    .dataframe thead th {\n",
              "        text-align: right;\n",
              "    }\n",
              "</style>\n",
              "<table border=\"1\" class=\"dataframe\">\n",
              "  <thead>\n",
              "    <tr style=\"text-align: right;\">\n",
              "      <th></th>\n",
              "      <th>category</th>\n",
              "      <th>text</th>\n",
              "    </tr>\n",
              "  </thead>\n",
              "  <tbody>\n",
              "    <tr>\n",
              "      <th>0</th>\n",
              "      <td>tech</td>\n",
              "      <td>tv future in the hands of viewers with home th...</td>\n",
              "    </tr>\n",
              "    <tr>\n",
              "      <th>1</th>\n",
              "      <td>business</td>\n",
              "      <td>worldcom boss  left books alone  former worldc...</td>\n",
              "    </tr>\n",
              "    <tr>\n",
              "      <th>2</th>\n",
              "      <td>sport</td>\n",
              "      <td>tigers wary of farrell  gamble  leicester say ...</td>\n",
              "    </tr>\n",
              "    <tr>\n",
              "      <th>3</th>\n",
              "      <td>sport</td>\n",
              "      <td>yeading face newcastle in fa cup premiership s...</td>\n",
              "    </tr>\n",
              "    <tr>\n",
              "      <th>4</th>\n",
              "      <td>entertainment</td>\n",
              "      <td>ocean s twelve raids box office ocean s twelve...</td>\n",
              "    </tr>\n",
              "    <tr>\n",
              "      <th>...</th>\n",
              "      <td>...</td>\n",
              "      <td>...</td>\n",
              "    </tr>\n",
              "    <tr>\n",
              "      <th>2220</th>\n",
              "      <td>NaN</td>\n",
              "      <td>cars pull down us retail figures us retail sal...</td>\n",
              "    </tr>\n",
              "    <tr>\n",
              "      <th>2221</th>\n",
              "      <td>NaN</td>\n",
              "      <td>kilroy unveils immigration policy ex-chatshow ...</td>\n",
              "    </tr>\n",
              "    <tr>\n",
              "      <th>2222</th>\n",
              "      <td>NaN</td>\n",
              "      <td>rem announce new glasgow concert us band rem h...</td>\n",
              "    </tr>\n",
              "    <tr>\n",
              "      <th>2223</th>\n",
              "      <td>NaN</td>\n",
              "      <td>how political squabbles snowball it s become c...</td>\n",
              "    </tr>\n",
              "    <tr>\n",
              "      <th>2224</th>\n",
              "      <td>NaN</td>\n",
              "      <td>souness delight at euro progress boss graeme s...</td>\n",
              "    </tr>\n",
              "  </tbody>\n",
              "</table>\n",
              "<p>2225 rows × 2 columns</p>\n",
              "</div>"
            ],
            "text/plain": [
              "           category                                               text\n",
              "0              tech  tv future in the hands of viewers with home th...\n",
              "1          business  worldcom boss  left books alone  former worldc...\n",
              "2             sport  tigers wary of farrell  gamble  leicester say ...\n",
              "3             sport  yeading face newcastle in fa cup premiership s...\n",
              "4     entertainment  ocean s twelve raids box office ocean s twelve...\n",
              "...             ...                                                ...\n",
              "2220            NaN  cars pull down us retail figures us retail sal...\n",
              "2221            NaN  kilroy unveils immigration policy ex-chatshow ...\n",
              "2222            NaN  rem announce new glasgow concert us band rem h...\n",
              "2223            NaN  how political squabbles snowball it s become c...\n",
              "2224            NaN  souness delight at euro progress boss graeme s...\n",
              "\n",
              "[2225 rows x 2 columns]"
            ]
          },
          "metadata": {
            "tags": []
          },
          "execution_count": 41
        }
      ]
    },
    {
      "cell_type": "code",
      "metadata": {
        "id": "V6jOUAwG4MOz"
      },
      "source": [
        "train_data = df.iloc[:-10,:]\n",
        "test_data = df.iloc[-10:,:]"
      ],
      "execution_count": null,
      "outputs": []
    },
    {
      "cell_type": "code",
      "metadata": {
        "id": "oN9VM52O5NG5"
      },
      "source": [
        "x_train = train_data['text']\n",
        "y_train = train_data['category']"
      ],
      "execution_count": null,
      "outputs": []
    },
    {
      "cell_type": "code",
      "metadata": {
        "id": "kDw2jC095PCa"
      },
      "source": [
        "x_test = test_data['text']"
      ],
      "execution_count": null,
      "outputs": []
    },
    {
      "cell_type": "code",
      "metadata": {
        "id": "x0_gVjAz5VMP"
      },
      "source": [
        "vectorizer = TfidfVectorizer(ngram_range=(2, 3), min_df=10, max_features= 4000)"
      ],
      "execution_count": null,
      "outputs": []
    },
    {
      "cell_type": "code",
      "metadata": {
        "id": "XMENqbYVG0Jj"
      },
      "source": [
        "tfidf_model = vectorizer.fit(x_train)"
      ],
      "execution_count": null,
      "outputs": []
    },
    {
      "cell_type": "code",
      "metadata": {
        "id": "god7BQq0EXyV"
      },
      "source": [
        "train_data_vector = tfidf_model.transform(x_train)"
      ],
      "execution_count": null,
      "outputs": []
    },
    {
      "cell_type": "code",
      "metadata": {
        "colab": {
          "base_uri": "https://localhost:8080/"
        },
        "id": "MjUm6prfJFFF",
        "outputId": "7aff2160-a65b-4282-a3ea-6e02a967b917"
      },
      "source": [
        "print(train_data_vector.shape)\n"
      ],
      "execution_count": null,
      "outputs": [
        {
          "output_type": "stream",
          "text": [
            "(2215, 4000)\n"
          ],
          "name": "stdout"
        }
      ]
    },
    {
      "cell_type": "code",
      "metadata": {
        "colab": {
          "base_uri": "https://localhost:8080/"
        },
        "id": "9Wago_uOUiuG",
        "outputId": "c8540191-f749-4c18-f336-08917dfb9edf"
      },
      "source": [
        "np.random.seed(0)\n",
        "\n",
        "w1 = np.random.normal(0, 1, 4000)\n",
        "print(w1)\n",
        "\n",
        "w2 = np.random.normal(0, 1, 4000)\n",
        "print(w2)\n",
        "\n",
        "w3 = np.random.normal(0, 1, 4000)\n",
        "print(w3)\n",
        "\n",
        "w4 = np.random.normal(0, 1, 4000)\n",
        "print(w4)\n",
        "\n",
        "w5 = np.random.normal(0, 1, 4000)\n",
        "print(w5)\n"
      ],
      "execution_count": null,
      "outputs": [
        {
          "output_type": "stream",
          "text": [
            "[ 1.76405235  0.40015721  0.97873798 ... -0.03057244  1.57708821\n",
            " -0.8128021 ]\n",
            "[ 0.61334917  1.84369998  0.27109098 ... -0.20273458 -0.25786648\n",
            "  0.07081452]\n",
            "[ 0.99784476  0.26008072  0.92506562 ... -1.9974298  -0.03192091\n",
            "  0.22396576]\n",
            "[ 0.94550839  0.42292354 -1.17568    ...  1.41938754  0.74710667\n",
            " -0.10630249]\n",
            "[-1.96265255 -0.83403203  1.99383675 ... -0.05725925 -1.05893126\n",
            " -0.32652844]\n"
          ],
          "name": "stdout"
        }
      ]
    },
    {
      "cell_type": "code",
      "metadata": {
        "colab": {
          "base_uri": "https://localhost:8080/"
        },
        "id": "fL2t8A3pwjwX",
        "outputId": "da1071a6-cdce-43a2-91f7-ef8d3c7576e2"
      },
      "source": [
        "train_data_array_vector = pd.DataFrame(train_data_vector.toarray())\n",
        "train_data_array_vector = np.array(train_data_array_vector)\n",
        "print(train_data_array_vector)"
      ],
      "execution_count": null,
      "outputs": [
        {
          "output_type": "stream",
          "text": [
            "[[0. 0. 0. ... 0. 0. 0.]\n",
            " [0. 0. 0. ... 0. 0. 0.]\n",
            " [0. 0. 0. ... 0. 0. 0.]\n",
            " ...\n",
            " [0. 0. 0. ... 0. 0. 0.]\n",
            " [0. 0. 0. ... 0. 0. 0.]\n",
            " [0. 0. 0. ... 0. 0. 0.]]\n"
          ],
          "name": "stdout"
        }
      ]
    },
    {
      "cell_type": "code",
      "metadata": {
        "colab": {
          "base_uri": "https://localhost:8080/"
        },
        "id": "Hid4kbXDvuHc",
        "outputId": "239a9dd7-f76f-4e3b-d4a1-a4bd0800dc31"
      },
      "source": [
        "test_data_vector = vectorizer.transform(x_test)\n",
        "test_data_vector.shape"
      ],
      "execution_count": null,
      "outputs": [
        {
          "output_type": "execute_result",
          "data": {
            "text/plain": [
              "(10, 4000)"
            ]
          },
          "metadata": {
            "tags": []
          },
          "execution_count": 51
        }
      ]
    },
    {
      "cell_type": "code",
      "metadata": {
        "colab": {
          "base_uri": "https://localhost:8080/"
        },
        "id": "HMkbRoNiv-dm",
        "outputId": "b1f94b46-573c-4c93-adb9-143bfd2d4483"
      },
      "source": [
        "test_data_array_vector = pd.DataFrame(test_data_vector.toarray())\n",
        "test_data_array_vector = np.array(test_data_array_vector)\n",
        "print(test_data_array_vector)"
      ],
      "execution_count": null,
      "outputs": [
        {
          "output_type": "stream",
          "text": [
            "[[0.         0.         0.         ... 0.         0.         0.        ]\n",
            " [0.         0.         0.         ... 0.         0.         0.        ]\n",
            " [0.         0.         0.         ... 0.         0.         0.        ]\n",
            " ...\n",
            " [0.         0.         0.         ... 0.         0.         0.        ]\n",
            " [0.         0.         0.         ... 0.06236649 0.         0.        ]\n",
            " [0.         0.         0.         ... 0.13429259 0.         0.        ]]\n"
          ],
          "name": "stdout"
        }
      ]
    },
    {
      "cell_type": "code",
      "metadata": {
        "id": "fgDkAFl80ubH"
      },
      "source": [
        "rows, cols = train_data_array_vector.shape\n",
        "\n",
        "hash_table = {}\n",
        "hash_function = []\n",
        "\n",
        "def hash_func(w1, w2, w3, w4, w5, train_data_array_vector):\n",
        "  \n",
        "  \n",
        "  for i in range(rows):\n",
        "    hash_function.clear()\n",
        "\n",
        "    if (np.dot(w1, train_data_array_vector[i])) > 0 :\n",
        "      hash_function.append(1)\n",
        "    else:\n",
        "      hash_function.append(-1)\n",
        "\n",
        "    if (np.dot(w2, train_data_array_vector[i])) > 0 :\n",
        "      hash_function.append(1)\n",
        "    else:\n",
        "      hash_function.append(-1)\n",
        "\n",
        "    if (np.dot(w3, train_data_array_vector[i])) > 0 :\n",
        "      hash_function.append(1)\n",
        "    else:\n",
        "      hash_function.append(-1)\n",
        "\n",
        "    if (np.dot(w4, train_data_array_vector[i])) > 0 :\n",
        "      hash_function.append(1)\n",
        "    else:\n",
        "      hash_function.append(-1)\n",
        "\n",
        "    if (np.dot(w5, train_data_array_vector[i])) > 0 :\n",
        "      hash_function.append(1)\n",
        "    else:\n",
        "      hash_function.append(-1)\n",
        "\n",
        "    if tuple(hash_function) in hash_table.keys():\n",
        "      hash_table[tuple(hash_function)].append(i)\n",
        "\n",
        "    if tuple(hash_function) not in hash_table.keys():\n",
        "      hash_table[tuple(hash_function)] = [i]\n",
        "\n",
        "  return hash_table\n"
      ],
      "execution_count": null,
      "outputs": []
    },
    {
      "cell_type": "code",
      "metadata": {
        "colab": {
          "base_uri": "https://localhost:8080/"
        },
        "id": "4Mm8Wkl4Gu7p",
        "outputId": "36c576db-27ea-42dc-8a4a-87292afeccd5"
      },
      "source": [
        "print(hash_func(w1, w2, w3, w4, w5, train_data_array_vector))"
      ],
      "execution_count": null,
      "outputs": [
        {
          "output_type": "stream",
          "text": [
            "{(-1, 1, 1, -1, 1): [0, 36, 110, 113, 139, 169, 198, 278, 295, 412, 512, 549, 565, 573, 574, 688, 696, 712, 839, 887, 977, 1021, 1071, 1185, 1227, 1243, 1266, 1273, 1381, 1383, 1433, 1463, 1495, 1500, 1503, 1526, 1550, 1584, 1814, 1849, 1864, 2032, 2040, 2051, 2131, 2137, 2151], (1, 1, 1, 1, 1): [1, 28, 54, 74, 92, 117, 118, 135, 146, 168, 172, 205, 242, 334, 388, 449, 521, 531, 532, 533, 540, 576, 615, 616, 655, 722, 781, 892, 935, 1087, 1091, 1140, 1210, 1220, 1274, 1335, 1343, 1358, 1379, 1430, 1564, 1569, 1727, 1785, 1811, 1829, 1840, 1898, 1938, 1949, 1994, 2030, 2083, 2140, 2208], (1, -1, -1, -1, -1): [2, 27, 32, 68, 73, 219, 230, 234, 244, 346, 399, 400, 415, 479, 496, 519, 558, 670, 687, 737, 758, 760, 773, 817, 880, 889, 922, 932, 952, 1049, 1095, 1126, 1156, 1169, 1201, 1365, 1396, 1446, 1513, 1557, 1588, 1624, 1653, 1668, 1703, 1728, 1729, 1787, 1792, 1796, 1870, 1879, 1893, 2069, 2074, 2135, 2176], (-1, 1, -1, -1, -1): [3, 18, 185, 186, 195, 314, 326, 398, 424, 571, 604, 645, 672, 678, 695, 873, 921, 1136, 1180, 1183, 1255, 1283, 1354, 1363, 1373, 1426, 1488, 1531, 1762, 1764, 1769, 1808, 1824, 1859, 1919, 2013, 2015, 2018, 2058, 2103, 2143], (1, -1, -1, 1, 1): [4, 44, 56, 90, 133, 143, 173, 175, 183, 200, 212, 222, 240, 297, 299, 316, 358, 361, 372, 404, 413, 430, 463, 467, 494, 520, 555, 595, 632, 650, 664, 677, 769, 778, 801, 816, 818, 822, 858, 869, 872, 882, 895, 910, 965, 969, 976, 978, 980, 996, 1026, 1035, 1044, 1050, 1069, 1098, 1108, 1130, 1135, 1244, 1348, 1356, 1388, 1448, 1501, 1506, 1512, 1530, 1543, 1567, 1597, 1606, 1700, 1704, 1706, 1723, 1733, 1752, 1799, 1809, 1826, 1841, 1853, 1887, 1903, 1911, 1918, 1923, 1925, 1967, 1972, 1975, 1978, 1989, 2006, 2023, 2027, 2053, 2054, 2109, 2141, 2174, 2198, 2207], (-1, 1, -1, 1, -1): [5, 9, 12, 55, 177, 182, 215, 264, 292, 328, 349, 441, 448, 453, 517, 554, 570, 598, 647, 660, 681, 786, 805, 821, 859, 860, 1063, 1151, 1206, 1413, 1611, 1647, 1685, 1698, 1738, 1784, 1803, 1830, 1839, 1901, 1905, 1950, 1957, 1979, 1999, 2028, 2122, 2148, 2164, 2211], (-1, 1, 1, -1, -1): [6, 65, 97, 122, 145, 279, 282, 409, 446, 507, 524, 600, 621, 747, 857, 940, 959, 1028, 1054, 1102, 1106, 1257, 1366, 1400, 1440, 1541, 1559, 1690, 1722, 1734, 1737, 1802, 1812, 1866, 1929, 2008, 2157], (-1, -1, 1, 1, -1): [7, 33, 61, 76, 89, 100, 111, 126, 178, 184, 191, 211, 237, 276, 290, 302, 305, 307, 340, 348, 461, 518, 581, 606, 620, 675, 684, 691, 693, 710, 829, 893, 913, 924, 928, 938, 946, 986, 1012, 1039, 1079, 1104, 1115, 1137, 1147, 1152, 1207, 1248, 1249, 1252, 1276, 1304, 1307, 1357, 1369, 1392, 1403, 1435, 1459, 1466, 1494, 1520, 1540, 1591, 1604, 1618, 1620, 1663, 1667, 1692, 1746, 1747, 1767, 1791, 1795, 1806, 1815, 1851, 1857, 1869, 1882, 1915, 1927, 1942, 1956, 1997, 2024, 2038, 2060, 2071, 2076, 2082, 2106, 2123, 2158, 2173, 2206, 2209, 2212], (1, -1, 1, 1, -1): [8, 13, 35, 42, 82, 85, 95, 108, 112, 115, 120, 132, 150, 157, 159, 166, 204, 217, 249, 308, 310, 311, 322, 338, 355, 362, 364, 411, 428, 445, 480, 489, 500, 503, 525, 551, 562, 626, 651, 682, 703, 705, 766, 810, 856, 881, 906, 916, 923, 937, 954, 955, 1025, 1042, 1059, 1125, 1141, 1142, 1170, 1191, 1195, 1202, 1230, 1242, 1256, 1289, 1322, 1340, 1374, 1387, 1393, 1418, 1454, 1527, 1562, 1577, 1607, 1619, 1636, 1669, 1672, 1705, 1720, 1744, 1759, 1771, 1788, 1856, 1863, 1894, 1906, 1907, 1940, 1947, 1953, 1955, 1965, 1970, 1995, 2009, 2036, 2066, 2086, 2092, 2104, 2144, 2156, 2187], (1, 1, -1, -1, 1): [10, 137, 283, 353, 384, 426, 563, 700, 753, 763, 782, 806, 813, 995, 997, 1038, 1161, 1197, 1217, 1219, 1233, 1262, 1360, 1376, 1436, 1462, 1493, 1507, 1580, 1601, 1621, 1659, 1696, 1753, 1755, 1837, 1845, 2007, 2025, 2077, 2079, 2119, 2127, 2191], (1, 1, 1, 1, -1): [11, 57, 210, 224, 289, 475, 544, 578, 591, 629, 729, 738, 754, 849, 852, 1008, 1188, 1281, 1294, 1301, 1311, 1330, 1476, 1489, 1496, 1519, 1538, 1590, 1613, 1629, 1648, 1765, 1786, 1789, 1910, 1962, 1988, 2063, 2070, 2096, 2192], (1, 1, -1, 1, -1): [14, 21, 24, 58, 121, 148, 154, 158, 165, 187, 238, 342, 432, 472, 501, 509, 515, 528, 535, 542, 543, 635, 683, 697, 726, 830, 991, 999, 1030, 1077, 1099, 1146, 1164, 1296, 1390, 1407, 1485, 1502, 1546, 1642, 1670, 1715, 1773, 1794, 1858, 1936, 1996, 2056, 2057, 2091, 2177], (-1, -1, -1, 1, -1): [15, 37, 48, 49, 64, 71, 72, 80, 104, 106, 128, 138, 152, 161, 174, 188, 197, 268, 269, 286, 324, 333, 337, 347, 363, 371, 387, 390, 403, 416, 418, 431, 456, 460, 484, 492, 539, 575, 633, 709, 717, 744, 751, 756, 767, 770, 777, 785, 831, 862, 875, 879, 886, 897, 907, 947, 950, 951, 966, 974, 988, 998, 1002, 1003, 1007, 1033, 1034, 1055, 1057, 1070, 1083, 1119, 1124, 1162, 1165, 1171, 1172, 1174, 1198, 1218, 1235, 1271, 1280, 1284, 1288, 1332, 1367, 1372, 1404, 1422, 1423, 1431, 1455, 1460, 1497, 1498, 1537, 1542, 1592, 1646, 1655, 1664, 1683, 1701, 1743, 1760, 1775, 1776, 1807, 1810, 1813, 1827, 1834, 1847, 1890, 1920, 1931, 1937, 1948, 1954, 1992, 2003, 2011, 2031, 2047, 2094, 2147, 2149, 2199, 2204], (-1, 1, 1, 1, 1): [16, 63, 116, 123, 149, 162, 164, 247, 252, 291, 293, 374, 455, 462, 495, 529, 564, 583, 597, 657, 666, 668, 692, 702, 720, 790, 794, 837, 864, 967, 1032, 1072, 1120, 1221, 1260, 1277, 1355, 1380, 1384, 1419, 1428, 1441, 1539, 1551, 1565, 1585, 1643, 1711, 1713, 1754, 1780, 1804, 1828, 1836, 1848, 1933, 1944, 1983, 2026, 2080, 2085, 2125, 2129, 2134, 2169], (-1, -1, -1, 1, 1): [17, 19, 26, 29, 45, 47, 77, 86, 94, 114, 151, 180, 181, 190, 202, 208, 220, 241, 250, 261, 287, 318, 321, 336, 354, 377, 382, 392, 397, 439, 443, 452, 491, 516, 547, 548, 553, 580, 582, 608, 618, 623, 630, 639, 641, 654, 663, 669, 699, 701, 715, 736, 741, 759, 812, 845, 848, 896, 905, 909, 931, 941, 943, 964, 1037, 1045, 1048, 1061, 1062, 1066, 1073, 1074, 1085, 1088, 1111, 1155, 1178, 1216, 1229, 1254, 1272, 1282, 1291, 1292, 1295, 1299, 1329, 1336, 1338, 1385, 1401, 1424, 1429, 1444, 1453, 1457, 1471, 1482, 1487, 1490, 1521, 1522, 1528, 1533, 1536, 1545, 1568, 1570, 1589, 1593, 1598, 1630, 1718, 1751, 1781, 1793, 1805, 1818, 1820, 1855, 1871, 1892, 1904, 1913, 1922, 1926, 1973, 1974, 1981, 2021, 2034, 2065, 2078, 2088, 2090, 2112, 2118, 2120, 2160, 2161, 2163, 2201], (1, -1, -1, 1, -1): [20, 25, 41, 43, 87, 99, 102, 130, 136, 171, 216, 218, 262, 272, 304, 325, 330, 367, 380, 383, 396, 437, 438, 458, 497, 506, 522, 527, 546, 557, 577, 628, 640, 698, 708, 734, 742, 746, 749, 768, 775, 779, 798, 799, 811, 815, 819, 838, 840, 904, 972, 975, 981, 982, 984, 1046, 1081, 1112, 1133, 1144, 1167, 1184, 1203, 1239, 1287, 1314, 1321, 1352, 1386, 1391, 1412, 1420, 1432, 1467, 1469, 1470, 1511, 1517, 1529, 1561, 1574, 1605, 1628, 1631, 1678, 1679, 1736, 1739, 1801, 1817, 1822, 1924, 1928, 1939, 1946, 1982, 1987, 2004, 2017, 2050, 2064, 2139, 2150, 2168, 2172, 2175, 2180, 2181, 2190, 2200], (1, -1, -1, -1, 1): [22, 38, 39, 79, 119, 147, 179, 223, 231, 251, 263, 271, 313, 335, 341, 369, 376, 407, 419, 440, 560, 567, 572, 611, 667, 851, 884, 894, 903, 914, 962, 987, 1051, 1068, 1107, 1127, 1138, 1157, 1181, 1182, 1192, 1212, 1246, 1263, 1305, 1323, 1342, 1421, 1434, 1458, 1483, 1515, 1534, 1578, 1587, 1626, 1635, 1660, 1695, 1825, 1844, 1867, 1945, 2002, 2033, 2039, 2059, 2098, 2099, 2154, 2178, 2179, 2203, 2214], (-1, 1, 1, 1, -1): [23, 96, 105, 153, 239, 243, 315, 401, 405, 468, 511, 587, 680, 694, 771, 780, 809, 847, 855, 876, 963, 973, 1029, 1113, 1175, 1223, 1224, 1378, 1408, 1416, 1461, 1481, 1576, 1665, 1691, 1899, 1930, 2022, 2037, 2171, 2213], (1, -1, 1, 1, 1): [30, 59, 103, 141, 199, 226, 232, 233, 235, 245, 246, 254, 259, 267, 296, 345, 385, 386, 421, 427, 442, 454, 470, 490, 534, 545, 673, 674, 706, 713, 723, 757, 796, 814, 844, 870, 883, 953, 960, 1000, 1005, 1013, 1036, 1056, 1100, 1109, 1128, 1163, 1194, 1261, 1290, 1300, 1312, 1326, 1353, 1368, 1397, 1445, 1475, 1478, 1544, 1579, 1608, 1634, 1637, 1640, 1654, 1673, 1686, 1725, 1749, 1761, 1816, 1861, 1876, 1897, 1900, 1912, 1977, 1984, 1985, 1986, 2081, 2084, 2089, 2105, 2116, 2126, 2153, 2186], (-1, -1, -1, -1, 1): [31, 107, 125, 160, 203, 213, 228, 236, 255, 258, 300, 319, 389, 393, 394, 423, 429, 466, 469, 477, 498, 537, 559, 579, 584, 614, 617, 689, 724, 728, 732, 774, 793, 797, 832, 890, 911, 912, 917, 949, 958, 992, 994, 1011, 1052, 1084, 1094, 1110, 1131, 1176, 1193, 1196, 1204, 1214, 1225, 1231, 1234, 1238, 1247, 1275, 1333, 1339, 1347, 1371, 1375, 1492, 1508, 1552, 1554, 1572, 1599, 1610, 1658, 1687, 1757, 1774, 1797, 1819, 1835, 1843, 1874, 1880, 1881, 1934, 1966, 1971, 2016, 2046, 2061, 2114, 2121, 2136, 2142], (-1, 1, -1, 1, 1): [34, 51, 52, 84, 124, 170, 192, 284, 301, 309, 352, 357, 504, 538, 541, 619, 671, 743, 776, 783, 784, 804, 846, 850, 861, 863, 871, 933, 934, 1009, 1018, 1024, 1067, 1075, 1078, 1101, 1139, 1158, 1228, 1251, 1264, 1309, 1315, 1328, 1341, 1406, 1449, 1486, 1524, 1535, 1555, 1600, 1714, 1766, 1878, 1886, 1976, 2044, 2128, 2132, 2170, 2182], (-1, -1, 1, 1, 1): [40, 60, 70, 75, 88, 91, 131, 134, 163, 206, 221, 256, 350, 351, 356, 375, 406, 434, 436, 457, 471, 530, 561, 569, 585, 594, 599, 602, 605, 646, 676, 686, 718, 739, 748, 750, 755, 764, 772, 788, 828, 915, 930, 944, 983, 1019, 1027, 1058, 1076, 1089, 1092, 1093, 1166, 1189, 1200, 1245, 1253, 1269, 1270, 1320, 1337, 1350, 1399, 1402, 1427, 1465, 1473, 1479, 1480, 1484, 1509, 1510, 1553, 1602, 1612, 1615, 1627, 1639, 1650, 1656, 1666, 1699, 1707, 1712, 1745, 1756, 1772, 1798, 1889, 1909, 1935, 1943, 1951, 1959, 1980, 2020, 2029, 2035, 2041, 2067, 2159, 2185, 2188, 2195, 2197, 2210], (-1, -1, 1, -1, 1): [46, 144, 189, 207, 225, 274, 298, 312, 332, 344, 368, 402, 414, 493, 499, 526, 607, 638, 648, 658, 679, 745, 752, 761, 765, 795, 807, 826, 827, 834, 901, 925, 961, 979, 989, 993, 1015, 1016, 1082, 1096, 1160, 1177, 1179, 1199, 1208, 1215, 1267, 1278, 1306, 1359, 1361, 1394, 1395, 1409, 1410, 1414, 1499, 1518, 1571, 1582, 1596, 1603, 1633, 1645, 1682, 1689, 1697, 1821, 1832, 1846, 1852, 1862, 1895, 1916, 1952, 1964, 1993, 2001, 2012, 2014, 2019, 2055, 2101, 2124, 2165, 2193, 2196, 2205], (1, 1, 1, -1, 1): [50, 306, 425, 465, 474, 612, 685, 740, 833, 867, 874, 919, 1031, 1121, 1123, 1186, 1327, 1439, 1443, 1452, 1644, 1649, 1676, 1693, 1694, 1708, 1724, 1748, 1790, 1823, 1831, 1833, 1872, 1877, 2073, 2111, 2152, 2184], (-1, -1, -1, -1, -1): [53, 127, 176, 193, 201, 248, 253, 270, 339, 359, 381, 408, 410, 417, 433, 459, 476, 485, 486, 508, 523, 586, 588, 592, 593, 624, 656, 659, 661, 662, 665, 714, 725, 731, 787, 802, 820, 824, 836, 853, 898, 899, 908, 939, 945, 957, 968, 985, 1010, 1020, 1060, 1065, 1103, 1105, 1117, 1132, 1159, 1240, 1286, 1303, 1310, 1317, 1349, 1351, 1389, 1405, 1477, 1516, 1573, 1586, 1614, 1625, 1638, 1651, 1661, 1671, 1681, 1684, 1777, 1778, 1850, 1896, 1902, 1963, 2049, 2075, 2113, 2155], (1, -1, 1, -1, 1): [62, 69, 109, 140, 273, 320, 329, 331, 365, 373, 435, 552, 613, 636, 649, 690, 704, 707, 808, 842, 868, 956, 990, 1001, 1004, 1006, 1023, 1041, 1114, 1118, 1154, 1222, 1237, 1411, 1417, 1425, 1468, 1583, 1594, 1609, 1735, 1741, 1842, 1854, 1884, 1921, 2097, 2117, 2130, 2133, 2138, 2189], (1, 1, -1, -1, -1): [66, 93, 155, 214, 447, 609, 625, 716, 902, 942, 1211, 1232, 1450, 1456, 1558, 1563, 1623, 1702, 1732, 1742, 1868, 1875, 1968, 2062, 2115, 2166, 2183], (1, 1, -1, 1, 1): [67, 156, 194, 229, 288, 323, 327, 360, 395, 464, 481, 566, 841, 866, 891, 920, 1022, 1116, 1145, 1148, 1187, 1205, 1213, 1308, 1316, 1324, 1334, 1364, 1451, 1472, 1504, 1523, 1549, 1560, 1581, 1617, 1641, 1662, 1677, 1719, 1726, 1730, 1758, 1783, 1865, 1960, 1969, 2000, 2005, 2072, 2095, 2162], (1, -1, 1, -1, -1): [78, 98, 129, 167, 275, 277, 303, 317, 370, 378, 379, 478, 482, 505, 514, 596, 627, 637, 719, 733, 762, 791, 885, 936, 948, 970, 1017, 1064, 1129, 1149, 1209, 1259, 1302, 1319, 1331, 1370, 1382, 1514, 1556, 1566, 1595, 1622, 1652, 1674, 1675, 1740, 1770, 1885, 1908, 2100, 2107, 2145], (-1, 1, -1, -1, 1): [81, 142, 209, 265, 266, 281, 391, 420, 450, 451, 483, 487, 488, 502, 510, 603, 643, 644, 653, 792, 800, 803, 854, 865, 971, 1014, 1040, 1043, 1047, 1097, 1122, 1226, 1241, 1268, 1279, 1293, 1298, 1313, 1318, 1325, 1344, 1346, 1415, 1437, 1442, 1474, 1491, 1505, 1525, 1532, 1547, 1632, 1779, 1838, 1888, 1932, 1941, 1958, 1961, 1990, 1991, 2010, 2043, 2045, 2052, 2068, 2102], (1, 1, 1, -1, -1): [83, 227, 257, 343, 556, 568, 589, 601, 610, 631, 634, 642, 711, 730, 823, 825, 843, 878, 927, 1053, 1090, 1285, 1464, 1616, 1657, 1680, 1688, 1710, 1721, 1891, 1998, 2042, 2110, 2146, 2194], (-1, -1, 1, -1, -1): [101, 196, 260, 280, 285, 294, 366, 422, 444, 473, 513, 536, 550, 590, 622, 652, 721, 727, 735, 789, 835, 877, 888, 900, 918, 926, 929, 1080, 1086, 1134, 1143, 1150, 1153, 1168, 1173, 1190, 1236, 1250, 1258, 1265, 1297, 1345, 1362, 1377, 1398, 1438, 1447, 1548, 1575, 1709, 1716, 1717, 1731, 1750, 1763, 1768, 1782, 1800, 1860, 1873, 1883, 1914, 1917, 2048, 2087, 2093, 2108, 2167, 2202]}\n"
          ],
          "name": "stdout"
        }
      ]
    },
    {
      "cell_type": "code",
      "metadata": {
        "colab": {
          "base_uri": "https://localhost:8080/"
        },
        "id": "WrgKpDJTHPFi",
        "outputId": "4f882064-da69-41b2-a80b-11f0124d0f66"
      },
      "source": [
        "len(hash_table)"
      ],
      "execution_count": null,
      "outputs": [
        {
          "output_type": "execute_result",
          "data": {
            "text/plain": [
              "32"
            ]
          },
          "metadata": {
            "tags": []
          },
          "execution_count": 55
        }
      ]
    },
    {
      "cell_type": "code",
      "metadata": {
        "colab": {
          "base_uri": "https://localhost:8080/"
        },
        "id": "uUS-4VFd4Mcf",
        "outputId": "46489c23-4605-4fcc-c67a-59024da97eb9"
      },
      "source": [
        "test_query_label = []\n",
        "for i in range(10):\n",
        "  query = test_data_array_vector[i]\n",
        "  # print(query)\n",
        "  hash_function2 = []\n",
        "  hash_function2.clear()\n",
        "\n",
        "  if (np.dot(w1, query)) > 0: \n",
        "      hash_function2.append(1)\n",
        "  else:\n",
        "      hash_function2.append(-1)\n",
        "\n",
        "  if (np.dot(w2, query)) > 0:  \n",
        "      hash_function2.append(1)\n",
        "  else:\n",
        "      hash_function2.append(-1)\n",
        "  if (np.dot(w3, query)) > 0:  \n",
        "      hash_function2.append(1)\n",
        "  else:\n",
        "      hash_function2.append(-1)\n",
        "\n",
        "  if (np.dot(w4, query)) > 0:  \n",
        "      hash_function2.append(1)\n",
        "  else:\n",
        "      hash_function2.append(-1)\n",
        "\n",
        "  if (np.dot(w5, query)) > 0:  \n",
        "      hash_function2.append(1)\n",
        "  else:\n",
        "      hash_function2.append(-1)\n",
        "  \n",
        "  \n",
        "  NN_indices = hash_table.get(tuple(hash_function2))\n",
        "\n",
        "  cosine_similarity = []\n",
        "  cosine_similarity.clear()\n",
        "\n",
        "  for index in NN_indices:\n",
        "    # cos_sim = (np.dot(query, train_data_array_vector[i]))/(np.linalg.norm(query)*np.linalg.norm(train_data_array_vector[i]))\n",
        "    cos_sim = np.dot(query, train_data_array_vector[index])\n",
        "    cosine_similarity.append([index, cos_sim])\n",
        " \n",
        "  cosine_similarity.sort(key= lambda x: x[1], reverse=True)\n",
        "  # print(cosine_similarity)\n",
        "  k_nearrest_neighbors = cosine_similarity[:11]\n",
        "  # print(k_nearrest_neighbors)\n",
        "  \n",
        "\n",
        "  k_nearrest_neighbors_indices = []\n",
        "  k_nearrest_neighbors_indices.clear()\n",
        "  for i in range(len(k_nearrest_neighbors)):\n",
        "    k_nearrest_neighbors_indices.append(k_nearrest_neighbors[i][0])\n",
        "  # print(k_nearrest_neighbors_indices)\n",
        "\n",
        "\n",
        "  test_label = []\n",
        "  labels_dict = dict()\n",
        "  \n",
        "  for ind in k_nearrest_neighbors_indices:\n",
        "    label = y_train[ind]\n",
        "    test_label.append(label)\n",
        "\n",
        "  # print(test_label)\n",
        "  for l in test_label:\n",
        "    labels_dict[l] = test_label.count(l)\n",
        "  # print(labels_dict)\n",
        "\n",
        "  test_query_label.append(max(labels_dict, key= labels_dict.get))\n",
        "\n",
        "print(np.array(test_query_label))\n"
      ],
      "execution_count": null,
      "outputs": [
        {
          "output_type": "stream",
          "text": [
            "['tech' 'entertainment' 'tech' 'tech' 'business' 'business' 'politics'\n",
            " 'entertainment' 'politics' 'sport']\n"
          ],
          "name": "stdout"
        }
      ]
    },
    {
      "cell_type": "code",
      "metadata": {
        "id": "bdZstTeWoQNE"
      },
      "source": [
        ""
      ],
      "execution_count": null,
      "outputs": []
    }
  ]
}